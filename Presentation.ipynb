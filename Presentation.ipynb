{
 "cells": [
  {
   "cell_type": "markdown",
   "metadata": {
    "slideshow": {
     "slide_type": "slide"
    }
   },
   "source": [
    "# <center>Data collection, pipelines, and visualization </center>\n",
    "### <center>An applied approach using python data science ecosystem</center>\n",
    "<br>\n",
    "<br>\n",
    "<br>\n",
    "<br>\n",
    "<br>\n",
    "<br>\n",
    "<center> <strong> Dr. Abdalrahman Eweiwi</strong></center>"
   ]
  },
  {
   "cell_type": "markdown",
   "metadata": {
    "slideshow": {
     "slide_type": "slide"
    }
   },
   "source": [
    "# About me!\t\n",
    "\n",
    "<br>\n",
    "<br>\n",
    "<b>\n",
    "<ul>\n",
    "<li> Abdalrahman Eweiwi (Abdal), exported to Germany from Palestine in 2008 for Msc. in RWTH Aachen\n",
    "<li> I finalized my Phd in computer vision in 2014 from the University of Bonn\n",
    "<li> Have been working for industry ever since in cologne region\n",
    "<li>Currently as a senior data scientist in Siegwerk AG.\n"
   ]
  },
  {
   "cell_type": "markdown",
   "metadata": {
    "slideshow": {
     "slide_type": "slide"
    }
   },
   "source": [
    "# Overview\tof this talk\n",
    "\n",
    "\n",
    "<br>\n",
    "<br>\n",
    "<b>\n",
    "<ul>\n",
    "<li>Motivation</li>\n",
    "    <ul>\n",
    "    <li>  From research to industry, why data pipelines are important for data scientists?</li>\n",
    "    </ul>\n",
    "    \n",
    "\n",
    "<li> Data science process: general overview</li>\n",
    "\n",
    "<li>Python ecosystem packages to the rescue</li>\n",
    "\n",
    "<ul>\n",
    "<li>Scrapy</li>\n",
    "<li>Luigi</li>\n",
    "<li>Dash</li>\n",
    "</ul>\n",
    "\n",
    "<li> Business case: The car buyer’s dilemma (Demo) </li>\n",
    "\n"
   ]
  },
  {
   "cell_type": "markdown",
   "metadata": {
    "slideshow": {
     "slide_type": "slide"
    }
   },
   "source": [
    "# Overview\tof this talk\n",
    "\n",
    "\n",
    "<br>\n",
    "<br>\n",
    "<b>\n",
    "<ul>\n",
    "    <font color=\"blue\">\n",
    "<li>Motivation</li>\n",
    "    <ul>\n",
    "    <li> From research to industry, why data pipelines are important for data scientists? </li>\n",
    "    </ul>\n",
    "    </font>\n",
    "\n",
    "<li> Data science process: general overview</li>\n",
    "\n",
    "<li>Python ecosystem packages to the rescue</li>\n",
    "\n",
    "<ul>\n",
    "<li>Scrapy</li>\n",
    "<li>Luigi</li>\n",
    "<li>Dash</li>\n",
    "</ul>\n",
    "\n",
    "<li> Business case: The car buyer’s dilemma (Demo) </li>\n",
    "\n"
   ]
  },
  {
   "cell_type": "markdown",
   "metadata": {
    "slideshow": {
     "slide_type": "slide"
    }
   },
   "source": [
    "# From research to industry, why data pipelines are important?\n",
    "<br>\n",
    "<br>\n",
    "<b>\n",
    "    \n",
    "Research environments make critical assumptions that are usually not valid in real world:\n",
    "<ul>\n",
    "    <li> Exploration approach with lots of prototypes </li> \n",
    "    <li> Data sources exists and/or easily accessible </li>\n",
    "    <li> Continous monitoring of model performance is not necessarily important </li>\n",
    "    <li> Optimizing ML metrics imply optimizing business metrics </li>\n",
    "    \n"
   ]
  },
  {
   "cell_type": "markdown",
   "metadata": {
    "slideshow": {
     "slide_type": "slide"
    }
   },
   "source": [
    "# From research to industry, why data pipelines are important?\n",
    "\n",
    "\n",
    "![alt text](imgs/production.png \"Scrapy\")"
   ]
  },
  {
   "cell_type": "markdown",
   "metadata": {
    "slideshow": {
     "slide_type": "slide"
    }
   },
   "source": [
    "# From research to industry, why data pipelines are important?\n",
    "<br>\n",
    "<br>\n",
    "<b>\n",
    "    \n",
    "In industry\n",
    "<ul>\n",
    "    <li> Less exploration and prototypes, more focus on production ready systems </li> \n",
    "    <li> Data sources usually do not exists or not easily accessible </li>\n",
    "    <li> Continous monitoring of model and business KPI's is a must</li>\n",
    "    <li> Code quality and standards should be maintained</li>\n",
    "    \n"
   ]
  },
  {
   "cell_type": "markdown",
   "metadata": {
    "slideshow": {
     "slide_type": "slide"
    }
   },
   "source": [
    "# From research to industry: a cross functional challenge\n",
    "\n",
    "![alt text](imgs/crossfunctional.png \"Scrapy\")"
   ]
  },
  {
   "cell_type": "markdown",
   "metadata": {
    "slideshow": {
     "slide_type": "slide"
    }
   },
   "source": [
    "# Overview\tof this talk\n",
    "\n",
    "\n",
    "<br>\n",
    "<br>\n",
    "<b>\n",
    "<ul>\n",
    "<li>Motivation</li>\n",
    "    <ul>\n",
    "    <li> From research to industry, why data pipelines are important for data scientists? </li>\n",
    "    </ul>\n",
    "    \n",
    "\n",
    "<li><font color=\"blue\"> Data science process: general overview</font></li>\n",
    "\n",
    "<li>Python ecosystem packages to the rescue</li>\n",
    "\n",
    "<ul>\n",
    "<li>Scrapy</li>\n",
    "<li>Luigi</li>\n",
    "<li>Dash</li>\n",
    "</ul>\n",
    "\n",
    "<li> Business case: The car buyer’s dilemma (Demo) </li>\n"
   ]
  },
  {
   "cell_type": "markdown",
   "metadata": {
    "slideshow": {
     "slide_type": "slide"
    }
   },
   "source": [
    "# Data science process: general overview\n",
    "\n",
    "![alt text](imgs/dsp.png \"Scrapy\")\n"
   ]
  },
  {
   "cell_type": "markdown",
   "metadata": {
    "slideshow": {
     "slide_type": "slide"
    }
   },
   "source": [
    "# Data science process: Tools to the rescue\n",
    "![alt text](imgs/dsp_ext.png \"Scrapy\")\n"
   ]
  },
  {
   "cell_type": "markdown",
   "metadata": {
    "slideshow": {
     "slide_type": "slide"
    }
   },
   "source": [
    "# Overview\tof this talk\n",
    "\n",
    "\n",
    "<br>\n",
    "<br>\n",
    "<b>\n",
    "<ul>\n",
    "<li>Motivation</li>\n",
    "    <ul>\n",
    "    <li> From research to industry, why data pipelines are important for data scientists? </li>\n",
    "    </ul>\n",
    "    \n",
    "\n",
    "<li> Data science process: general overview</li>\n",
    "\n",
    "<li><font color=\"blue\">Python ecosystem packages to the rescue</li>\n",
    "\n",
    "<ul>\n",
    "<li>Scrapy</li>\n",
    "<li>Luigi</li>\n",
    "<li>Dash</li>\n",
    "</ul>\n",
    "</font>\n",
    "<li> Business case: The car buyer’s dilemma (Demo) </li>\n",
    "\n"
   ]
  },
  {
   "cell_type": "markdown",
   "metadata": {
    "slideshow": {
     "slide_type": "slide"
    }
   },
   "source": [
    "![alt text](imgs/download.png \"Scrapy\")\n",
    "\n",
    "## Scrapy in a nutshell\n",
    "\n",
    "1. <strong> Open source with a healthy community</strong>\n",
    "![alt text](imgs/scrapy_c1.png \"Scrapy community\")\n",
    "![alt text](imgs/scrapy_c2.png \"Scrapy community\")\n",
    "2. <strong> Fast, scalable, and easily extendible framework for complex scraping projects</strong>\n",
    "3. <strong> Scrapy project skeleton is automatically generated upon calling:</strong>\n",
    "<ul> \n",
    "    <li> \n",
    "        <code> scrapy createproject [project name] </code>\n",
    "    </li>\n",
    "\n",
    "\n"
   ]
  },
  {
   "cell_type": "markdown",
   "metadata": {
    "slideshow": {
     "slide_type": "slide"
    }
   },
   "source": [
    "# Scrapy project structure\n",
    "\n",
    "![alt text](imgs/skeleton.png \"Scrapy project skeleton\")\n",
    "\n",
    "\n",
    "\n",
    "### Each file created serves a specific functionality:\n",
    "1. Scrapy.cfg: deploy configuration files (e.g. ip of the server where the spider will be deployed)\n",
    "2. Scrapy_shobiddak: Main project module \n",
    "3. Scrapy_shobiddak/items.py: \n",
    "4. scrapy_shobiddak/pipelines.py:\n",
    "5. scrapy_shobiddak/settings.py: contains project settings file\n",
    "6. scrapy_shobiddak/spiders/: directory that contains your crawler modules\n",
    "\n"
   ]
  },
  {
   "cell_type": "markdown",
   "metadata": {
    "slideshow": {
     "slide_type": "slide"
    }
   },
   "source": [
    "## items.py: \n",
    "define the data entries you want to collect for a particular object, for example, represent the viewed car below using the following features: \n",
    "1. <strong> Car model </strong>\n",
    "2. <strong>Car price</strong>\n",
    "3. <strong>Car type</strong>\n",
    "\n",
    "\n",
    "![alt text](imgs/view1.png \"An item in shobiddak.com\")"
   ]
  },
  {
   "cell_type": "markdown",
   "metadata": {
    "slideshow": {
     "slide_type": "skip"
    }
   },
   "source": [
    "<b>Items represent the basic structure of elements that we are collecting </b>\n",
    "``` python\n",
    "class ShobiddakCar(Item):\n",
    "\n",
    "    car_model = Field()\n",
    "    car_year = Field()\n",
    "    car_color = Field()\n",
    "    price = Field()\n",
    "```"
   ]
  },
  {
   "cell_type": "markdown",
   "metadata": {
    "slideshow": {
     "slide_type": "slide"
    }
   },
   "source": [
    "![alt text](imgs/luigi_logo.png \"Luigi\")\n",
    "\n",
    "\n",
    "## Luigi in a nutshell\n",
    " 1. <strong> Open source with a healthy community</strong>\n",
    "![alt text](imgs/luigi_c1.png \"Luigi community\")\n",
    "![alt text](imgs/luigi_c2.png \"Luigi community\")\n",
    " 2. <strong>Simple breakdown of tasks based on their requirements (dependencies), execution, and output</strong>\n",
    " 3. <strong>Interaction support with lots of variant systems including different cloud providers, docker_runner, hadoop, kubernetes, pyspark_runner, salesforce etc.</strong>\n",
    " 4. <strong>Minimal code overhead</strong>\n",
    " 6. <strong>Provides pipeline monitoring tools using the task visualizer tool</strong>\n",
    " 7. <strong>Supports error notification Tasks through e.g. email or slack</strong>"
   ]
  },
  {
   "cell_type": "markdown",
   "metadata": {
    "slideshow": {
     "slide_type": "slide"
    }
   },
   "source": [
    "## Luigi code structure\n",
    "\n",
    "![alt text](imgs/luigi.png \"Luigi\")\n"
   ]
  },
  {
   "cell_type": "markdown",
   "metadata": {
    "slideshow": {
     "slide_type": "slide"
    }
   },
   "source": [
    "## Luigi provides tools to visually monitor the task status\n",
    "\n",
    "![alt text](imgs/luigi_task_vis.png \"Luigi\")\n"
   ]
  },
  {
   "cell_type": "markdown",
   "metadata": {
    "slideshow": {
     "slide_type": "slide"
    }
   },
   "source": [
    "## General overview of the running tasks status\n",
    "\n",
    "![alt text](imgs/luigi_task_vis2.png \"Luigi\")"
   ]
  },
  {
   "cell_type": "markdown",
   "metadata": {
    "slideshow": {
     "slide_type": "slide"
    }
   },
   "source": [
    "![alt text](imgs/dash-logo.png \"Dash\")\n",
    "\n",
    "\n",
    "## Dash in a nutshell\n",
    "1. <strong> Its free </strong> \n",
    "2. <strong> Pure python, no javascript or html required </strong>\n",
    "3. <strong> Uses flask server as backend, react.js for frontend </strong> \n",
    "4. <strong> Clear structure, a very good candidate for internal data products</strong>\n",
    "\n",
    "\n",
    "    \n",
    "``` python\n",
    "import dash\n",
    "import dash_core_components as dcc\n",
    "import dash_html_components as html\n",
    "import plotly.graph_objs as go\n",
    "\n",
    "```"
   ]
  },
  {
   "cell_type": "markdown",
   "metadata": {
    "slideshow": {
     "slide_type": "slide"
    }
   },
   "source": [
    "# Hello world example!\n",
    "\n",
    "``` python\n",
    "\n",
    "app = dash.Dash(__name__)\n",
    "app.layout(html.div([html.H1(\"hello world!\")]))\n",
    "\n",
    "\n",
    "if __name__ == '__main__':\n",
    "    app.run_server(debug=True)\n",
    "```"
   ]
  },
  {
   "cell_type": "markdown",
   "metadata": {
    "slideshow": {
     "slide_type": "slide"
    }
   },
   "source": [
    "## Add interactivity by invoking dash_core_component widget\n",
    "\n",
    "``` python\n",
    "from dash.dependencies import Input, Output\n",
    "app.layout = html.Div([dcc.Input(id='txt_input', type='text', value='Bonn'),\n",
    "                       html.Div(id='output')\n",
    "                     ])\n",
    "\n",
    "@app.callback(Output('output', 'children'),\n",
    "              [Input('txt_input', 'value')])\n",
    "def update_output(my_txtinput):\n",
    "    return u'Text input is \"{}\"'.format(my_txtinput)\n",
    "\n",
    "\n",
    "if __name__ == '__main__':\n",
    "    app.run_server(debug=True)\n",
    "```"
   ]
  },
  {
   "cell_type": "markdown",
   "metadata": {
    "slideshow": {
     "slide_type": "slide"
    }
   },
   "source": [
    "# Overview\tof this talk\n",
    "\n",
    "\n",
    "<br>\n",
    "<br>\n",
    "<b>\n",
    "<ul>\n",
    "<li>Motivation</li>\n",
    "    <ul>\n",
    "    <li> From research to industry, why data pipelines are important for data scientists? </li>\n",
    "    </ul>\n",
    "    \n",
    "\n",
    "<li> Data science process: general overview</li>\n",
    "\n",
    "<li>Python ecosystem packages to the rescue</li>\n",
    "\n",
    "<ul>\n",
    "<li>Scrapy</li>\n",
    "<li>Luigi</li>\n",
    "<li>Dash</li>\n",
    "</ul>\n",
    "\n",
    "<li> <font color=\"blue\">Business case: The car buyer’s dilemma (Demo) </font> </li>\n",
    "\n",
    "</ul>\n",
    "</b>"
   ]
  },
  {
   "cell_type": "markdown",
   "metadata": {
    "slideshow": {
     "slide_type": "slide"
    }
   },
   "source": [
    "# Business case: The car buyer’s dilemma (Demo) \n",
    "\n",
    "\n",
    "\n",
    "![alt text](imgs/card.png \"Dash\")\n"
   ]
  },
  {
   "cell_type": "markdown",
   "metadata": {},
   "source": [
    "<br>\n",
    "<br>\n",
    "<br>\n",
    "<br>\n",
    "\n",
    "# <center> Demo </center>"
   ]
  },
  {
   "cell_type": "markdown",
   "metadata": {},
   "source": [
    "<br>\n",
    "<br>\n",
    "<br>\n",
    "<br>\n",
    "\n",
    "\n",
    "# <center> Thanks for listening!</center>"
   ]
  },
  {
   "cell_type": "code",
   "execution_count": null,
   "metadata": {
    "slideshow": {
     "slide_type": "skip"
    }
   },
   "outputs": [],
   "source": [
    "class shobiddak(CrawlSpider):\n",
    "    name = \"scrapy_shobiddak\"\n",
    "    # defines the allowed downains to which the crawler are allowed to crawl\n",
    "    allowed_domains = [\"https://shobiddak.com\"]\n",
    "    \n",
    "    # a list of url to start scraping from\n",
    "    start_urls = ['https://shobiddak.com/cars']\n",
    "\n",
    "    # rules if exists to generate subsequent requests\n",
    "    rules = [\n",
    "        # rule to click on the next page, hence, no callback required because I am not interested \n",
    "        # in the general description but rather in the details\n",
    "        Rule(LinkExtractor(allow=(), restrict_xpaths='//a[@class=\"next_page\"]'),\n",
    "             follow=True),\n",
    "        \n",
    "        # rule to generate the requests of the items in the next page to get their further details\n",
    "        Rule(LinkExtractor(allow=(), restrict_xpaths='//p[@class=\"section_title\"]'),\n",
    "             callback='parse_sub', follow=True)\n",
    "    ]\n",
    "\n",
    "   \n"
   ]
  },
  {
   "cell_type": "code",
   "execution_count": null,
   "metadata": {
    "slideshow": {
     "slide_type": "skip"
    }
   },
   "outputs": [],
   "source": [
    " def __init__(self):\n",
    "        super().__init__()\n",
    "\n",
    "    item_fields = {'car_model': \"//h1[@class='section_title']/text()\",\n",
    "                   'car_year': \"//table/tbody/tr/td/h3[@class='section_title']/text()\",\n",
    "                   'price': \"//div[@class='post-price']/text()\",\n",
    "    }\n",
    "\n",
    "\n",
    "    def parse_sub(self, response):\n",
    "        # assemble contents based on the provided item_fields variable \n",
    "        loader = ItemLoader(ShobiddakCar(), response=response)\n",
    "        loader.default_input_processor = MapCompose(str.strip)\n",
    "        loader.add_value('url', response.url)\n",
    "        for field, xpath in self.item_fields.items():\n",
    "            loader.add_xpath(field, xpath)\n",
    "        yield loader.load_item()"
   ]
  }
 ],
 "metadata": {
  "celltoolbar": "Slideshow",
  "kernelspec": {
   "display_name": "Python 3",
   "language": "python",
   "name": "python3"
  },
  "language_info": {
   "codemirror_mode": {
    "name": "ipython",
    "version": 3
   },
   "file_extension": ".py",
   "mimetype": "text/x-python",
   "name": "python",
   "nbconvert_exporter": "python",
   "pygments_lexer": "ipython3",
   "version": "3.6.5"
  }
 },
 "nbformat": 4,
 "nbformat_minor": 2
}
